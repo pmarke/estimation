{
 "cells": [
  {
   "cell_type": "markdown",
   "metadata": {},
   "source": [
    "# Table of Contents\n",
    "\n",
    "** Contributers: Mark Petersen **\n",
    "\n",
    "1. [Introduction](#Introduction)\n",
    "    1. [Modeling Sensor Uncertainty](#Modeling-Sensor-Uncertainty)\n",
    "    2. [Modeling Uncertain Prior Infromation](#Modeling-Uncertain-Prior-Infromation)\n",
    "    3. [Combining Information](#Combining-Information)\n",
    "\n"
   ]
  },
  {
   "cell_type": "markdown",
   "metadata": {},
   "source": [
    "## Introduction\n",
    "\n",
    "This notebook is based on the *Estimation I* by Ian Reid and will logically follow his paper. \n",
    "\n",
    "Estimation is the process of extracting data associated with a parameter to approximate its value when the true value is unknown. This sampled data is generally a random sample that comprises a subset of \"population\", and can be used to estimate a global characteristic. For example, let's say we want to know the male population in New York, and we randomly sample 25% of the population. The parameter that we are estimating is the male population in New York, and the sampled data comprises the subset that represents 25% of the population. We are using this subset to estimate the global characteristic or the entire population of New York. \n",
    "\n",
    "In engineering, we rely on sensors and models to tell us information about a system. Unfortunately, the sensors are noisy due to electrical noise, sampling error, calibration error, etc, and models are inaccurte. Some of the popular sensors in robotics are\n",
    "\n",
    "* Rate Gyros\n",
    "* Accelerometers\n",
    "* Pressure Sensors\n",
    "* Digital Compass/Magnetometer\n",
    "* GPS\n",
    "\n",
    "To deal with model uncertainties and sensor noise, we need to develop mathmatical tools to deal with these issues."
   ]
  },
  {
   "cell_type": "markdown",
   "metadata": {},
   "source": [
    "### Modeling Sensor Uncertainty\n",
    "\n",
    "Consider a GPS sensor which measures only a scalar quantity, x-position. Taking a single sample at a certain x-position we can estimate the true value of the parameter x-position. \n",
    "\n",
    "If we take multiple samples at a certain x-position, we will begin to see a distribution or samples about the true value. An appropriate way to model this is using a probability density function which tells us how likely a particular measurement is, given the true value of the parameter. This can be written as $P(Z|X)$, where $Z$ is the measurement and $X$ is the parameter being estimated.\n",
    "\n",
    "In this case the parameter x-position is a random variable and can be represented by different distributions. Some of the popular ones are shown below with their probability density function:\n",
    "\n",
    "* Normal (Gaussian) Distribution\n",
    "    * $f_x(x) = \\frac{1}{\\sqrt{2\\pi\\sigma^2}}e^{-(x-u)^2/2\\sigma^2}$\n",
    "* Exponential Distribution\n",
    "    * $f_x(x) =  \\begin{cases} \\lambda e^{-\\lambda x}    &\\geq 0   \\\\ 0 & otherwise\\end{cases}$ \n",
    "* Uniform Distribution\n",
    "    * $f_x(x) = \\begin{cases} \\frac{1}{b-a} & a \\leq x \\leq b \\\\ 0 & otherwise \\end{cases}$\n",
    "    \n",
    "\n",
    "The plots below show the probability density distribution for the various distribution provided that x-position = 5. These graphs might seem confusing at first to understand. The do not represent $P(Z|X)$ directly. To understand what they show, let's look at the uniform distribution. $P(4|5)$ is not $0.25$ rather it is an infentesimally small number. However, the $P(4 \\leq Z < 6|5)$ = 0.5. We get that by integrating the pdf $\\int_{4^-}^{6^-}f_x(x)$. \n",
    "\n",
    "Another way of thinking about this is with a uniform distribution the measured data is just as likely to be $4$ as it is $4.5$, but with a normal distribution the density is greater around the true value so the measured data is more likely to be closer to the true value than the large variances. "
   ]
  },
  {
   "cell_type": "code",
   "execution_count": 9,
   "metadata": {},
   "outputs": [
    {
     "data": {
      "text/plain": [
       "Text(0.5,1,'exponential pdf')"
      ]
     },
     "execution_count": 9,
     "metadata": {},
     "output_type": "execute_result"
    },
    {
     "data": {
      "image/png": "[encoded data removed]",
      "text/plain": [
       "<Figure size 1080x360 with 3 Axes>"
      ]
     },
     "metadata": {},
     "output_type": "display_data"
    }
   ],
   "source": [
    "%matplotlib inline\n",
    "from scipy.stats import uniform, norm, expon\n",
    "import numpy as np\n",
    "import matplotlib.pyplot as plt\n",
    "fig, ax = plt.subplots(1,3)\n",
    "fig.set_size_inches(15,5)\n",
    "\n",
    "# Generate Normal Distribution\n",
    "mean = 5\n",
    "var = 2\n",
    "rv_norm = norm(mean,var)\n",
    "x_norm = np.linspace(rv_norm.ppf(0.0001),rv_norm.ppf(0.9999),100)\n",
    "pdf_norm = rv_norm.pdf(x_norm)\n",
    "\n",
    "pdf_norm = np.insert(pdf_norm,0,np.array(0))\n",
    "pdf_norm = np.append(pdf_norm,np.array(0))\n",
    "x_norm = np.insert(x_norm,0,np.array(x_norm[0]-var))\n",
    "x_norm = np.append(x_norm,np.array(x_norm[-1]+var))\n",
    "\n",
    "ax[0].plot(x_norm,pdf_norm, 'r-', lw=5)\n",
    "ax[0].set_title('norm pdf')\n",
    "\n",
    "\n",
    "# Generate uniform probability distribution function\n",
    "width = 4\n",
    "start = 5-width/2\n",
    "rv_uniform = uniform(start, width)\n",
    "x_uniform = np.linspace(rv_uniform.ppf(0.01), rv_uniform.ppf(0.99),100)\n",
    "pdf_uniform = rv_uniform.pdf(x_uniform)\n",
    "\n",
    "pdf_uniform = np.insert(pdf_uniform,0,np.array([0,0]))\n",
    "pdf_uniform = np.append(pdf_uniform,np.array([0,0]))\n",
    "x_uniform = np.insert(x_uniform,0,np.array([x_uniform[0]-width/2,x_uniform[0]]))\n",
    "x_uniform = np.append(x_uniform,np.array([x_uniform[-1],x_uniform[-1]+width/2]))\n",
    "\n",
    "ax[1].plot(x_uniform,pdf_uniform, 'r-', lw=5)\n",
    "ax[1].set_title('uniform pdf')\n",
    "\n",
    "# Generate exponential probability distribution function\n",
    "start = 0\n",
    "lam = 5\n",
    "rv_expon = expon(start, lam)\n",
    "x_expon = np.linspace(rv_expon.ppf(0.01), rv_expon.ppf(0.999),100)\n",
    "pdf_expon = rv_expon.pdf(x_expon)\n",
    "\n",
    "pdf_expon = np.insert(pdf_expon,0,np.array([0,0]))\n",
    "pdf_expon = np.append(pdf_expon,np.array(0))\n",
    "x_expon = np.insert(x_expon,0,np.array([x_expon[0]-lam,x_expon[0]]))\n",
    "x_expon = np.append(x_expon,np.array(x_expon[-1]+lam))\n",
    "\n",
    "ax[2].plot(x_expon,pdf_expon, 'r-', lw=5)\n",
    "ax[2].set_title('exponential pdf')"
   ]
  },
  {
   "cell_type": "markdown",
   "metadata": {},
   "source": [
    "### Modeling Uncertain Prior Infromation\n",
    "\n",
    "In the previous section we modeled uncertainty in our GPS x-position measurement. We can appy the same idea to uncertain prior information. Let's say that the GPS is attached to a vehicle that can only move in one direction, but there are walls constraining the car's movement at $x=100$ and $x=0$. Using this prior information we can say that $P_x(x) \\sim U(0,100) $. In other words, the car is equally likely to be anywhere within the bounds."
   ]
  },
  {
   "cell_type": "markdown",
   "metadata": {},
   "source": [
    "### Combining Information\n",
    "\n"
   ]
  }
 ],
 "metadata": {
  "kernelspec": {
   "display_name": "Python 3",
   "language": "python",
   "name": "python3"
  },
  "language_info": {
   "codemirror_mode": {
    "name": "ipython",
    "version": 3
   },
   "file_extension": ".py",
   "mimetype": "text/x-python",
   "name": "python",
   "nbconvert_exporter": "python",
   "pygments_lexer": "ipython3",
   "version": "3.5.2"
  }
 },
 "nbformat": 4,
 "nbformat_minor": 2
}
